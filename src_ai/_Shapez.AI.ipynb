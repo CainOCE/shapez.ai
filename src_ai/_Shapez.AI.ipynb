{
 "cells": [
  {
   "cell_type": "markdown",
   "metadata": {},
   "source": [
    "# DECO3801 - Shapez.AI Project\n",
    "09:21:04 Friday September 20, 2024\n",
    "\n",
    "Student name:    &emsp;Cain Bruhn-Tanzer \\\n",
    "Student ID:      &emsp;&emsp;&ensp;s4535376 \\\n",
    "GitHub repo:     &emsp;&ensp; https://github.com/CainOCE/Shapez.ai\n"
   ]
  },
  {
   "cell_type": "markdown",
   "metadata": {},
   "source": [
    "#### Notebook Init Code\n"
   ]
  },
  {
   "cell_type": "code",
   "execution_count": 4,
   "metadata": {},
   "outputs": [],
   "source": [
    "import logging\n",
    "logging.getLogger('ipykernel').setLevel(logging.WARNING)"
   ]
  },
  {
   "cell_type": "markdown",
   "metadata": {},
   "source": [
    "### Notebook Purpose\n",
    "\n",
    "Examples and commentary not directly related to code execution. e.g.\n",
    "- What does this plot look like when we run it?\n",
    "- Compare and contrast AI model effectiveness."
   ]
  },
  {
   "cell_type": "markdown",
   "metadata": {},
   "source": [
    "### AI thoughts\n",
    "- place extractor on resource -- good\n",
    "- get goal resource to hub -- good ----- update goals as we play through\n",
    "- completion of goal -- bigger reward - remove goal\n",
    "- place belts such that they connect -- good\n",
    "- produce non goal resource to hub -- not ideal (maybe small negative)\n",
    "- \n",
    "- OPtimisation possibilities\n",
    "- deleting buildings???\n",
    "- cost of buildings??? \n",
    "\n",
    "### TODO\n",
    "- update game.py with methods from simpleGame.py in rhys branch of git ---- Cain\n",
    "- update game.py possible_actions method\n",
    "- uddate model.py with stuff from ryhsModel.py in rhys branch ---- rhys\n",
    "- "
   ]
  },
  {
   "cell_type": "markdown",
   "metadata": {},
   "source": [
    "### Static Resource List"
   ]
  },
  {
   "cell_type": "code",
   "execution_count": 18,
   "metadata": {
    "vscode": {
     "languageId": "javascript"
    }
   },
   "outputs": [
    {
     "ename": "SyntaxError",
     "evalue": "invalid syntax (2305455993.py, line 1)",
     "output_type": "error",
     "traceback": [
      "\u001b[1;36m  Cell \u001b[1;32mIn[18], line 1\u001b[1;36m\u001b[0m\n\u001b[1;33m    const resources = {\u001b[0m\n\u001b[1;37m          ^\u001b[0m\n\u001b[1;31mSyntaxError\u001b[0m\u001b[1;31m:\u001b[0m invalid syntax\n"
     ]
    }
   ],
   "source": [
    "const resources = {\n",
    "    // Colours\n",
    "    \"red\": \"r\",\n",
    "    \"green\": \"g\",\n",
    "    \"blue\": \"b\",\n",
    "    // NOTE:  Compound Colors do not exist on the map\n",
    "\n",
    "    // Base Shapes\n",
    "    \"RuRuRuRu\": \"R\",    // Rectangle\n",
    "    \"CuCuCuCu\": \"C\",    // Circle\n",
    "    \"SuSuSuSu\": \"S\",    // Star\n",
    "\n",
    "    // Exists only Fractionally on the map eg XxWuXxXx etc\n",
    "    \"WuWuWuWu\": \"W\",    // Windmill\n",
    "}"
   ]
  },
  {
   "cell_type": "markdown",
   "metadata": {},
   "source": [
    "### Static Goal List"
   ]
  },
  {
   "cell_type": "markdown",
   "metadata": {
    "vscode": {
     "languageId": "javascript"
    }
   },
   "source": [
    "<pre>\n",
    "[EASY] Base Shapes and Cuts\n",
    "LVL01: CuCuCuCu :  30 -> Full Circles\n",
    "LVL02: ----CuCu :  40 -> Left Side Half-Circle\n",
    "LVL03: RuRuRuRu :  70 -> Full Rectangle\n",
    "LVL04: RuRU---- : 125 -> Right Side Half-Rectangle\n",
    "LVL05: Cu----Cu : 170 -> Top Side Half-Circle\n",
    "LVL06: Cu------ : 270 -> TR Corner Circle\n",
    "\n",
    "[EASY] Colours & Merged Shapes\n",
    "LVL07: CrCrCrCr : 300 -> Full Circle, All Red\n",
    "LVL08: RbRb---- : 480 -> Right Side Half-Rectangle, All Blue\n",
    "LVL09: CpCpCpCp : 600 -> Full Circle, All Red\n",
    "LVL10: ScScScSc : 800 -> Full Star, Cyan\n",
    "\n",
    "[EASY] Final Beginner Challenge\n",
    "LVL11: CgScScCg :  1k -> Green Circle Top, Cyan star bottom\n",
    "\n",
    "[NORM] Introducing Compounds, Blueprints, and Layers\n",
    "LVL12: CbCbCbRb:CwCwCwCw          :   1k -> Blueprint Currency\n",
    "LVL13: RpRpRpRp:CwCwCwCw          : 3.8k -> White Circle on Purple Square\n",
    "LVL14: --Cg----:--Cr----          :  8/s -> 'Watermelon' Slice\n",
    "LVL15: SrSrSrSr:CyCyCyCy          :  10k\n",
    "LVL16: SrSrSrSr:CyCyCyCy:SwSwSwSw :   6k\n",
    "LVL17: CbRbRbCb:CwCwCwCw:WbWbWbWb :  20k -> Windmill Introduced\n",
    "LVL18: Sg----Sg:CgCgCgCg:--CyCy-- :  20k -> 'Green Helmet'\n",
    "LVL19: CpRpCp--:SwSwSwSw          :  25k\n",
    "LVL20: RuCw--Cw:----Ru--          :  25k\n",
    "\n",
    "[HARD] Memes and Challenges\n",
    "LVL21: CrCwCrCw:CwCrCwCr:CrCwCrCw:CwCrCwCr\n",
    "LVL22: Cg----Cr:Cw----Cw:Sy------:Cy----Cy\n",
    "LVL23: CcSyCcSy:SyCcSyCc:CcSyCcSy\n",
    "LVL24: CcRcCcRc:RwCwRwCw:Sr--Sw--:CyCyCyCy\n",
    "LVL25: Rg--Rg--:CwRwCwRw:--Rg--Rg\n",
    "LVL26: CbCuCbCu:Sr------:--CrSrCr:CwCwCwCw\n",
    "LVL26+ -> Freeplay\n",
    "</pre>"
   ]
  },
  {
   "cell_type": "markdown",
   "metadata": {},
   "source": [
    "### Visualisations\n",
    "\n",
    "TODO: Construct visualisations from the replay files\n"
   ]
  },
  {
   "cell_type": "code",
   "execution_count": 17,
   "metadata": {},
   "outputs": [],
   "source": [
    "import os\n",
    "from ipywidgets import Dropdown\n",
    "\n",
    "\n",
    "def file_selector(model_path=\"./models/\"):\n",
    "\t\"\"\" Generates a dropdown widget for selecting a model report. \"\"\"\n",
    "\tfilenames = []\n",
    "\n",
    "\t# Get a list of filenames in the subfolder\n",
    "\tfor f in os.listdir(model_path):\n",
    "\t\tfull_path = os.path.join(model_path, f)\n",
    "\t\tif os.path.isfile(full_path):\n",
    "\t\t\tfilenames.append(f)\n",
    "\n",
    "\t# Create a dropdown widget with filenames as options\n",
    "\telement = Dropdown(\n",
    "\t\toptions=filenames,\n",
    "\t\tvalue=filenames[0] if filenames else None,\n",
    "\t\tdescription='Model:',\n",
    "\t\tdisabled=False,\n",
    "\t)\n",
    "\n",
    "\treturn element"
   ]
  },
  {
   "cell_type": "code",
   "execution_count": 16,
   "metadata": {},
   "outputs": [
    {
     "data": {
      "application/vnd.jupyter.widget-view+json": {
       "model_id": "fb4ebf607cb94af7b6e1a4dfaa1cd41b",
       "version_major": 2,
       "version_minor": 0
      },
      "text/plain": [
       "Dropdown(description='Model:', options=('Architect_0.5.0_2024-10-15_09-55-18.json',), value='Architect_0.5.0_2…"
      ]
     },
     "metadata": {},
     "output_type": "display_data"
    },
    {
     "data": {
      "image/png": "[encoded data removed]",
      "text/plain": [
       "<Figure size 800x500 with 1 Axes>"
      ]
     },
     "metadata": {},
     "output_type": "display_data"
    }
   ],
   "source": [
    "import numpy as np\n",
    "import matplotlib.pyplot as plt\n",
    "from IPython.display import display, clear_output\n",
    "\n",
    "# Create a File Selection Widdget\n",
    "file_widget = file_selector()\n",
    "\n",
    "def visualise(change):\n",
    "    # Clear the previous output\n",
    "    clear_output(wait=True)\n",
    "\n",
    "    # Display the dropdown again\n",
    "    display(file_widget)\n",
    "\n",
    "    # Generate a simple plot (example data)\n",
    "    x = np.linspace(0, 10, 100)\n",
    "    y = np.sin(x)\n",
    "\n",
    "    # Create the plot\n",
    "    plt.figure(figsize=(8, 5))\n",
    "    plt.plot(x, y)\n",
    "    plt.title(f'Selected file: {change[\"new\"]}')\n",
    "    plt.xlabel('X-axis')\n",
    "    plt.ylabel('Y-axis')\n",
    "    plt.grid()\n",
    "    plt.show()\n",
    "\n",
    "# Function to handle the change in dropdown selection\n",
    "file_widget.observe(visualise, names='value')\n",
    "display(file_widget)\n",
    "\n",
    "# Display the dropdown and the initial plot\n",
    "display(file_widget)\n",
    "visualise({'new': file_widget.value})\n"
   ]
  },
  {
   "cell_type": "markdown",
   "metadata": {},
   "source": [
    "### App Terminal"
   ]
  },
  {
   "cell_type": "code",
   "execution_count": null,
   "metadata": {},
   "outputs": [],
   "source": [
    "from app import ShapezAI\n",
    "\n",
    "app = ShapezAI()\n",
    "app.run(debug=False)"
   ]
  }
 ],
 "metadata": {
  "kernelspec": {
   "display_name": "Python 3",
   "language": "python",
   "name": "python3"
  },
  "language_info": {
   "codemirror_mode": {
    "name": "ipython",
    "version": 3
   },
   "file_extension": ".py",
   "mimetype": "text/x-python",
   "name": "python",
   "nbconvert_exporter": "python",
   "pygments_lexer": "ipython3",
   "version": "3.12.3"
  }
 },
 "nbformat": 4,
 "nbformat_minor": 2
}
