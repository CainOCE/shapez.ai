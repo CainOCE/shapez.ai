{
 "cells": [
  {
   "cell_type": "markdown",
   "metadata": {},
   "source": [
    "# DECO3801 - Shapez.AI Project\n",
    "09:21:04 Friday September 20, 2024\n",
    "\n",
    "Student name:    &emsp;Cain Bruhn-Tanzer \\\n",
    "Student ID:      &emsp;&emsp;&ensp;s4535376 \\\n",
    "GitHub repo:     &emsp;&ensp; https://github.com/CainOCE/Shapez.ai\n"
   ]
  }
 ],
 "metadata": {
  "language_info": {
   "name": "python"
  }
 },
 "nbformat": 4,
 "nbformat_minor": 2
}
