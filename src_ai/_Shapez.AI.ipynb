{
 "cells": [
  {
   "cell_type": "markdown",
   "metadata": {},
   "source": [
    "# DECO3801 - Shapez.AI Project\n",
    "09:21:04 Friday September 20, 2024\n",
    "\n",
    "Student name:    &emsp;Cain Bruhn-Tanzer \\\n",
    "Student ID:      &emsp;&emsp;&ensp;s4535376 \\\n",
    "GitHub repo:     &emsp;&ensp; https://github.com/CainOCE/Shapez.ai\n"
   ]
  },
  {
   "cell_type": "markdown",
   "metadata": {},
   "source": [
    "### Notebook Purpose\n",
    "\n",
    "Examples and commentary not directly related to code execution. e.g.\n",
    "- What does this plot look like when we run it?\n",
    "- Compare and contrast AI model effectiveness."
   ]
  },
  {
   "cell_type": "markdown",
   "metadata": {},
   "source": [
    "### AI thoughts\n",
    "- place extractor on resource -- good\n",
    "- get goal resource to hub -- good ----- update goals as we play through\n",
    "- completion of goal -- bigger reward - remove goal\n",
    "- place belts such that they connect -- good\n",
    "- produce non goal resource to hub -- not ideal (maybe small negative)\n",
    "- \n",
    "- OPtimisation possibilities\n",
    "- deleting buildings???\n",
    "- cost of buildings??? \n",
    "\n",
    "### TODO\n",
    "- update game.py with methods from simpleGame.py in rhys branch of git ---- Cain\n",
    "- update game.py possible_actions method\n",
    "- uddate model.py with stuff from ryhsModel.py in rhys branch ---- rhys\n",
    "- "
   ]
  },
  {
   "cell_type": "markdown",
   "metadata": {},
   "source": [
    "### Static Resource List"
   ]
  },
  {
   "cell_type": "code",
   "execution_count": null,
   "metadata": {},
   "outputs": [],
   "source": [
    "const resources = {\n",
    "    // Colours\n",
    "    \"red\": \"r\",\n",
    "    \"green\": \"g\",\n",
    "    \"blue\": \"b\",\n",
    "    // NOTE:  Compound Colors do not exist on the map\n",
    "\n",
    "    // Base Shapes\n",
    "    \"RuRuRuRu\": \"R\",    // Rectangle\n",
    "    \"CuCuCuCu\": \"C\",    // Circle\n",
    "    \"SuSuSuSu\": \"S\",    // Star\n",
    "\n",
    "    // Exists only Fractionally on the map eg XxWuXxXx etc\n",
    "    \"WuWuWuWu\": \"W\",    // Windmill\n",
    "}"
   ]
  },
  {
   "cell_type": "markdown",
   "metadata": {},
   "source": [
    "### Static Goal List"
   ]
  },
  {
   "cell_type": "markdown",
   "metadata": {
    "vscode": {
     "languageId": "javascript"
    }
   },
   "source": [
    "<pre>\n",
    "[EASY] Base Shapes and Cuts\n",
    "LVL01: CuCuCuCu :  30 -> Full Circles\n",
    "LVL02: ----CuCu :  40 -> Left Side Half-Circle\n",
    "LVL03: RuRuRuRu :  70 -> Full Rectangle\n",
    "LVL04: RuRU---- : 125 -> Right Side Half-Rectangle\n",
    "LVL05: Cu----Cu : 170 -> Top Side Half-Circle\n",
    "LVL06: Cu------ : 270 -> TR Corner Circle\n",
    "\n",
    "[EASY] Colours & Merged Shapes\n",
    "LVL07: CrCrCrCr : 300 -> Full Circle, All Red\n",
    "LVL08: RbRb---- : 480 -> Right Side Half-Rectangle, All Blue\n",
    "LVL09: CpCpCpCp : 600 -> Full Circle, All Red\n",
    "LVL10: ScScScSc : 800 -> Full Star, Cyan\n",
    "\n",
    "[EASY] Final Beginner Challenge\n",
    "LVL11: CgScScCg :  1k -> Green Circle Top, Cyan star bottom\n",
    "\n",
    "[NORM] Introducing Compounds, Blueprints, and Layers\n",
    "LVL12: CbCbCbRb:CwCwCwCw          :   1k -> Blueprint Currency\n",
    "LVL13: RpRpRpRp:CwCwCwCw          : 3.8k -> White Circle on Purple Square\n",
    "LVL14: --Cg----:--Cr----          :  8/s -> 'Watermelon' Slice\n",
    "LVL15: SrSrSrSr:CyCyCyCy          :  10k\n",
    "LVL16: SrSrSrSr:CyCyCyCy:SwSwSwSw :   6k\n",
    "LVL17: CbRbRbCb:CwCwCwCw:WbWbWbWb :  20k -> Windmill Introduced\n",
    "LVL18: Sg----Sg:CgCgCgCg:--CyCy-- :  20k -> 'Green Helmet'\n",
    "LVL19: CpRpCp--:SwSwSwSw          :  25k\n",
    "LVL20: RuCw--Cw:----Ru--          :  25k\n",
    "\n",
    "[HARD] Memes and Challenges\n",
    "LVL21: CrCwCrCw:CwCrCwCr:CrCwCrCw:CwCrCwCr\n",
    "LVL22: Cg----Cr:Cw----Cw:Sy------:Cy----Cy\n",
    "LVL23: CcSyCcSy:SyCcSyCc:CcSyCcSy\n",
    "LVL24: CcRcCcRc:RwCwRwCw:Sr--Sw--:CyCyCyCy\n",
    "LVL25: Rg--Rg--:CwRwCwRw:--Rg--Rg\n",
    "LVL26: CbCuCbCu:Sr------:--CrSrCr:CwCwCwCw\n",
    "LVL26+ -> Freeplay\n",
    "</pre>"
   ]
  },
  {
   "cell_type": "markdown",
   "metadata": {},
   "source": [
    "## Visualisations"
   ]
  },
  {
   "cell_type": "code",
   "execution_count": null,
   "metadata": {},
   "outputs": [],
   "source": [
    "from app import ShapezAI\n",
    "import numpy as np\n",
    "import matplotlib.pyplot as plt\n",
    "\n",
    "def visualise(self):\n",
    "\tsteps = np.linspace(0, len(self.rewards_history), len(self.rewards_history))\n",
    "\tplt.plot(steps, self.reward_history)\n",
    "\tplt.xlabel('steps')\n",
    "\tplt.ylabel('reward')\n",
    "\tplt.title('reward through time of last training episode')\n",
    "\tplt.show()\n",
    "\n",
    "app = ShapezAI()\n",
    "app.run(debug=False)"
   ]
  }
 ],
 "metadata": {
  "kernelspec": {
   "display_name": "Python 3",
   "language": "python",
   "name": "python3"
  },
  "language_info": {
   "file_extension": ".jl",
   "mimetype": "application/julia",
   "name": "python",
   "version": "3.12.3"
  }
 },
 "nbformat": 4,
 "nbformat_minor": 2
}
