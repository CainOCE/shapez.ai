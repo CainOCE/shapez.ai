{
 "cells": [
  {
   "cell_type": "markdown",
   "metadata": {},
   "source": [
    "# DECO3801 - Shapez.AI Project\n",
    "09:21:04 Friday September 20, 2024\n",
    "\n",
    "Student name:    &emsp;Cain Bruhn-Tanzer \\\n",
    "Student ID:      &emsp;&emsp;&ensp;s4535376 \\\n",
    "GitHub repo:     &emsp;&ensp; https://github.com/CainOCE/Shapez.ai\n"
   ]
  },
  {
   "cell_type": "markdown",
   "metadata": {},
   "source": [
    "Static Goal List"
   ]
  },
  {
   "cell_type": "code",
   "execution_count": null,
   "metadata": {
    "vscode": {
     "languageId": "javascript"
    }
   },
   "outputs": [],
   "source": [
    "/**\n",
    " * need the list of goals\n",
    " * need a way to send the static required amount i dont know if we\n",
    " * can because the way we have it at the moment we have it we only\n",
    " * send through it once.\n",
    " */\n",
    "\n",
    "// CuCuCuCu\n",
    "// ----CuCu\n",
    "// RuRuRuRu\n",
    "// RuRU----\n",
    "// Cu----Cu\n",
    "// Cu------\n",
    "// CrCrCrCr\n",
    "// RbRb----\n",
    "// CpCpCpCp\n",
    "// ScScScSc\n",
    "// CgScScCg\n",
    "// CbCbCbRb:CwCwCwCw\n",
    "// RpRpRpRp:CwCwCwCw\n",
    "// --Cg----:--Cr----\n",
    "// SrSrSrSr:CyCyCyCy\n",
    "// SrSrSrSr:CyCyCyCy:SwSwSwSw\n",
    "// CbRbRbCb:CwCwCwCw:WbWbWbWb\n",
    "// Sg----Sg:CgCgCgCg:--CyCy--\n",
    "// CpRpCp--:SwSwSwSw\n",
    "// RuCw--Cw:----Ru--\n",
    "// CrCwCrCw:CwCrCwCr:CrCwCrCw:CwCrCwCr\n",
    "// Cg----Cr:Cw----Cw:Sy------:Cy----Cy\n",
    "// CcSyCcSy:SyCcSyCc:CcSyCcSy\n",
    "// CcRcCcRc:RwCwRwCw:Sr--Sw--:CyCyCyCy\n",
    "// Rg--Rg--:CwRwCwRw:--Rg--Rg\n",
    "// CbCuCbCu:Sr------:--CrSrCr:CwCwCwCw"
   ]
  }
 ],
 "metadata": {
  "language_info": {
   "name": "python"
  }
 },
 "nbformat": 4,
 "nbformat_minor": 2
}
